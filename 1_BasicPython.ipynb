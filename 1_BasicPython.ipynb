{
 "cells": [
  {
   "cell_type": "markdown",
   "id": "4e078920",
   "metadata": {},
   "source": [
    "### Assignment- I Solution \n",
    "#### Python script to progatamically fetch trade data from Binance and store in pandas dataframe"
   ]
  },
  {
   "cell_type": "code",
   "execution_count": 1,
   "id": "751d57ed",
   "metadata": {},
   "outputs": [],
   "source": [
    "#Importing required libraries\n",
    "import datetime\n",
    "import timeit\n",
    "import pandas as pd\n",
    "import traceback"
   ]
  },
  {
   "cell_type": "code",
   "execution_count": 2,
   "id": "55d2ce40",
   "metadata": {},
   "outputs": [],
   "source": [
    "#Helper functions\n",
    "\n",
    "def get_dates(start_date=None,end_date=None,n_days=None):\n",
    "    '''\n",
    "    Function to create n sequential dates\n",
    "    \n",
    "    Params:\n",
    "    \n",
    "    start_date: start date in the format '%Y-%m-%d' in UTC timezone\n",
    "    end_date:  end date in the format '%Y-%m-%d' in UTC timezone\n",
    "    n_days:    number of recent days\n",
    "    \n",
    "    Mandatory Params: \n",
    "    \n",
    "    (start_date and end_date) or n_days\n",
    "    \n",
    "    Precedence of Params:\n",
    "    n_days has higher precedence over (start_date and end_date)\n",
    "    '''    \n",
    "\n",
    "    if n_days is None:\n",
    "        if start_date is None or end_date is None:\n",
    "            return \"Download Failed: Mandatory params missing\"\n",
    "        else:    \n",
    "            start_date_dt=datetime.datetime.strptime(start_date,'%Y-%m-%d')\n",
    "            end_date_dt=datetime.datetime.strptime(end_date,'%Y-%m-%d')\n",
    "            days=0\n",
    "            dates=[]\n",
    "\n",
    "\n",
    "            while (start_date_dt+datetime.timedelta(days=days))<=end_date_dt:\n",
    "                dates.append((start_date_dt+datetime.timedelta(days=days)).strftime('%Y-%m-%d'))\n",
    "                days+=1\n",
    "            return dates\n",
    "    else:\n",
    "        utcnow=datetime.datetime.utcnow()\n",
    "        utclastday=(utcnow-datetime.timedelta(days=1))\n",
    "        days=0\n",
    "        dates=[]\n",
    "        while days<=n_days:\n",
    "            dates.append((utclastday+datetime.timedelta(days=-1*days)).strftime('%Y-%m-%d'))\n",
    "            days+=1\n",
    "        return dates[::-1]\n",
    "            \n",
    "\n",
    "def download_data(days):\n",
    "    '''\n",
    "    Function to download trade data from binance open source end point for given list of days\n",
    "    \n",
    "    Params:\n",
    "    days: List of days in format '%Y-%m-%d' in UTC timezone\n",
    "    '''\n",
    "    if type(days)!=list:\n",
    "        return \"Download Failed\"\n",
    "    print(\"Data Downloading for : \" ,days)\n",
    "    frames=[]\n",
    "    utclastday=''\n",
    "    for utclastday in days:\n",
    "        try:\n",
    "            url='https://data.binance.vision/data/futures/um/daily/trades/BTCUSDT/BTCUSDT-trades-{0}.zip'.format(utclastday)\n",
    "            print(url)\n",
    "            df=pd.read_csv(url,compression='zip',header=None)\n",
    "            df['symbol']='BTCUSDT'\n",
    "            df.columns=['id','price','qty','quote_qty','time','is_buyer_maker','symbol']\n",
    "            df=df[['id','symbol','price','qty','quote_qty','time','is_buyer_maker']]\n",
    "            df.set_index('id',inplace=True)\n",
    "            frames.append(df)\n",
    "        except Exception as ex:\n",
    "            \n",
    "            print(ex)\n",
    "            print(\"Download Failed for \",utclastday)\n",
    "    \n",
    "    return \"Couldn't download data for days\" if len(frames)==0 else pd.concat(frames)      \n"
   ]
  },
  {
   "cell_type": "code",
   "execution_count": 3,
   "id": "575a5eb9",
   "metadata": {},
   "outputs": [],
   "source": [
    "#Downloader function\n",
    "def data_downloader(start_date=None,end_date=None,n_days=None):\n",
    "    '''\n",
    "    Function to download trade data from binance open source end point\n",
    "    \n",
    "    Params:\n",
    "    \n",
    "    start_date: start date in the format '%Y-%m-%d' in UTC timezone from which the data hast to be downloaded\n",
    "    end_date:  end date in the format '%Y-%m-%d' in UTC timezone to which the data hast to be downloaded\n",
    "    n_days:    number of recent days for which the data has to be downloaded \n",
    "    \n",
    "    Mandatory Params: \n",
    "    \n",
    "    (start_date and end_date) or n_days\n",
    "    \n",
    "    Precedence of Params:\n",
    "    n_days has higher precedence over (start_date and end_date)\n",
    "    '''\n",
    "    if n_days is None:\n",
    "        if start_date is None or end_date is None:\n",
    "            return \"Download Failed: Mandatory params missing\"\n",
    "        else:\n",
    "            return download_data(get_dates(start_date,end_date))\n",
    "    else:\n",
    "        return download_data(get_dates(n_days=n_days))\n"
   ]
  },
  {
   "cell_type": "markdown",
   "id": "78a7ed78",
   "metadata": {},
   "source": [
    "### Sample function call for the desired dates in the assessment\n"
   ]
  },
  {
   "cell_type": "code",
   "execution_count": 4,
   "id": "13ca383c",
   "metadata": {},
   "outputs": [
    {
     "name": "stdout",
     "output_type": "stream",
     "text": [
      "Data Downloading for :  ['2022-03-01', '2022-03-02', '2022-03-03']\n",
      "https://data.binance.vision/data/futures/um/daily/trades/BTCUSDT/BTCUSDT-trades-2022-03-01.zip\n",
      "https://data.binance.vision/data/futures/um/daily/trades/BTCUSDT/BTCUSDT-trades-2022-03-02.zip\n",
      "https://data.binance.vision/data/futures/um/daily/trades/BTCUSDT/BTCUSDT-trades-2022-03-03.zip\n",
      "             symbol    price    qty  quote_qty           time  is_buyer_maker\n",
      "id                                                                           \n",
      "1987119092  BTCUSDT  43155.0  0.001      43.15  1646092800000            True\n",
      "1987119093  BTCUSDT  43150.8  0.001      43.15  1646092800027            True\n",
      "1987119094  BTCUSDT  43151.4  0.019     819.87  1646092800089            True\n",
      "1987119095  BTCUSDT  43151.4  0.031    1337.69  1646092800089            True\n",
      "1987119096  BTCUSDT  43151.4  0.001      43.15  1646092800089            True\n",
      "...             ...      ...    ...        ...            ...             ...\n",
      "1999773848  BTCUSDT  42449.5  0.050    2122.47  1646351998879            True\n",
      "1999773849  BTCUSDT  42449.5  0.001      42.44  1646351998910            True\n",
      "1999773850  BTCUSDT  42449.6  0.011     466.94  1646351999464           False\n",
      "1999773851  BTCUSDT  42449.6  0.001      42.44  1646351999492           False\n",
      "1999773852  BTCUSDT  42449.5  0.015     636.74  1646351999675            True\n",
      "\n",
      "[12653591 rows x 6 columns]\n"
     ]
    }
   ],
   "source": [
    "result=data_downloader(start_date='2022-03-01',end_date='2022-03-03')\n",
    "print(result)\n"
   ]
  },
  {
   "cell_type": "markdown",
   "id": "d812b308",
   "metadata": {},
   "source": [
    "### Sample function call for most recent n days\n"
   ]
  },
  {
   "cell_type": "code",
   "execution_count": 5,
   "id": "8d268645",
   "metadata": {},
   "outputs": [
    {
     "name": "stdout",
     "output_type": "stream",
     "text": [
      "Data Downloading for :  ['2022-04-11', '2022-04-12', '2022-04-13', '2022-04-14', '2022-04-15', '2022-04-16']\n",
      "https://data.binance.vision/data/futures/um/daily/trades/BTCUSDT/BTCUSDT-trades-2022-04-11.zip\n",
      "https://data.binance.vision/data/futures/um/daily/trades/BTCUSDT/BTCUSDT-trades-2022-04-12.zip\n",
      "https://data.binance.vision/data/futures/um/daily/trades/BTCUSDT/BTCUSDT-trades-2022-04-13.zip\n",
      "https://data.binance.vision/data/futures/um/daily/trades/BTCUSDT/BTCUSDT-trades-2022-04-14.zip\n",
      "https://data.binance.vision/data/futures/um/daily/trades/BTCUSDT/BTCUSDT-trades-2022-04-15.zip\n",
      "https://data.binance.vision/data/futures/um/daily/trades/BTCUSDT/BTCUSDT-trades-2022-04-16.zip\n",
      "             symbol    price    qty  quote_qty           time  is_buyer_maker\n",
      "id                                                                           \n",
      "2113048317  BTCUSDT  42140.3  0.010     421.40  1649635200078            True\n",
      "2113048318  BTCUSDT  42140.4  0.004     168.56  1649635200094           False\n",
      "2113048319  BTCUSDT  42140.4  0.003     126.42  1649635200095           False\n",
      "2113048320  BTCUSDT  42140.4  0.010     421.40  1649635200095           False\n",
      "2113048321  BTCUSDT  42140.4  0.003     126.42  1649635200099           False\n",
      "...             ...      ...    ...        ...            ...             ...\n",
      "2129651223  BTCUSDT  40360.9  0.019     766.85  1650153599549            True\n",
      "2129651224  BTCUSDT  40360.9  0.023     928.30  1650153599768            True\n",
      "2129651225  BTCUSDT  40360.9  0.200    8072.18  1650153599768            True\n",
      "2129651226  BTCUSDT  40360.9  0.027    1089.74  1650153599768            True\n",
      "2129651227  BTCUSDT  40361.0  0.007     282.52  1650153599946           False\n",
      "\n",
      "[19309413 rows x 6 columns]\n"
     ]
    }
   ],
   "source": [
    "result=data_downloader(n_days=5)\n",
    "\n",
    "print(result)"
   ]
  },
  {
   "cell_type": "code",
   "execution_count": null,
   "id": "6a8712c9",
   "metadata": {},
   "outputs": [],
   "source": []
  }
 ],
 "metadata": {
  "kernelspec": {
   "display_name": "Python 3 (ipykernel)",
   "language": "python",
   "name": "python3"
  },
  "language_info": {
   "codemirror_mode": {
    "name": "ipython",
    "version": 3
   },
   "file_extension": ".py",
   "mimetype": "text/x-python",
   "name": "python",
   "nbconvert_exporter": "python",
   "pygments_lexer": "ipython3",
   "version": "3.8.8"
  }
 },
 "nbformat": 4,
 "nbformat_minor": 5
}
